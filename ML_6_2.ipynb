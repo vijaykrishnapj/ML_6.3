{
  "nbformat": 4,
  "nbformat_minor": 0,
  "metadata": {
    "colab": {
      "provenance": []
    },
    "kernelspec": {
      "name": "python3",
      "display_name": "Python 3"
    },
    "language_info": {
      "name": "python"
    }
  },
  "cells": [
    {
      "cell_type": "code",
      "execution_count": 1,
      "metadata": {
        "colab": {
          "base_uri": "https://localhost:8080/"
        },
        "id": "MGHWo9zzc0D0",
        "outputId": "3e2e1a09-05d9-4dee-a34e-840e7fc81c60"
      },
      "outputs": [
        {
          "output_type": "stream",
          "name": "stdout",
          "text": [
            "Index(['Suburb', 'Rooms', 'Type', 'Price', 'Method', 'SellerG', 'Date',\n",
            "       'Distance', 'Postcode', 'Bedroom2', 'Bathroom', 'Car', 'Landsize',\n",
            "       'BuildingArea', 'YearBuilt', 'CouncilArea', 'Lattitude', 'Longtitude',\n",
            "       'Regionname', 'Propertycount'],\n",
            "      dtype='object')\n",
            "       Suburb  Rooms Type      Price Method SellerG     Date  Distance  \\\n",
            "0  Abbotsford      2    h        NaN     SS  Jellis   3/9/16       2.5   \n",
            "1  Abbotsford      2    h  1480000.0      S  Biggin  3/12/16       2.5   \n",
            "2  Abbotsford      2    h  1035000.0      S  Biggin   4/2/16       2.5   \n",
            "3  Abbotsford      3    u        NaN     VB  Rounds   4/2/16       2.5   \n",
            "4  Abbotsford      3    h  1465000.0     SP  Biggin   4/3/17       2.5   \n",
            "\n",
            "   Postcode  Bedroom2  Bathroom  Car  Landsize  BuildingArea  YearBuilt  \\\n",
            "0    3067.0       2.0       1.0  1.0     126.0           NaN        NaN   \n",
            "1    3067.0       2.0       1.0  1.0     202.0           NaN        NaN   \n",
            "2    3067.0       2.0       1.0  0.0     156.0          79.0     1900.0   \n",
            "3    3067.0       3.0       2.0  1.0       0.0           NaN        NaN   \n",
            "4    3067.0       3.0       2.0  0.0     134.0         150.0     1900.0   \n",
            "\n",
            "          CouncilArea  Lattitude  Longtitude             Regionname  \\\n",
            "0  Yarra City Council   -37.8014    144.9958  Northern Metropolitan   \n",
            "1  Yarra City Council   -37.7996    144.9984  Northern Metropolitan   \n",
            "2  Yarra City Council   -37.8079    144.9934  Northern Metropolitan   \n",
            "3  Yarra City Council   -37.8114    145.0116  Northern Metropolitan   \n",
            "4  Yarra City Council   -37.8093    144.9944  Northern Metropolitan   \n",
            "\n",
            "   Propertycount  \n",
            "0         4019.0  \n",
            "1         4019.0  \n",
            "2         4019.0  \n",
            "3         4019.0  \n",
            "4         4019.0  \n",
            "(34857, 19)\n",
            "(34857,)\n",
            "(34854, 19)\n",
            "(34854,)\n",
            "Suburb           0.000000\n",
            "Rooms            0.000000\n",
            "Type             0.000000\n",
            "Price           21.833936\n",
            "Method           0.000000\n",
            "SellerG          0.000000\n",
            "Date             0.000000\n",
            "Distance         0.000000\n",
            "Postcode         0.000000\n",
            "Bedroom2        23.566879\n",
            "Bathroom        23.592701\n",
            "Car             25.032995\n",
            "Landsize        33.875595\n",
            "BuildingArea    60.572675\n",
            "YearBuilt       55.382453\n",
            "CouncilArea      0.000000\n",
            "Lattitude       22.875423\n",
            "Longtitude      22.875423\n",
            "Regionname       0.000000\n",
            "dtype: float64\n",
            "Index(['Suburb', 'Rooms', 'Type', 'Method', 'SellerG', 'Date', 'Distance',\n",
            "       'Postcode', 'CouncilArea', 'Regionname'],\n",
            "      dtype='object')\n",
            "(34854, 10)\n",
            "accuracy for All features 0.9975136272353448\n",
            "accuracy for selected features 0.9989480730611074\n"
          ]
        }
      ],
      "source": [
        "import pandas as pd;\n",
        "from sklearn.preprocessing import LabelEncoder\n",
        "data=pd.read_csv('/content/drive/MyDrive/Colab Notebooks/CSE303/Lab-5/melbourne_housing_raw.csv')\n",
        "print(data.keys())\n",
        "print(data.head())\n",
        "from sklearn import preprocessing\n",
        "label_encoder = preprocessing.LabelEncoder()\n",
        "for column in data.keys():\n",
        "  if data[column].dtype == 'object':\n",
        "    data[column] = label_encoder.fit_transform(data[column])\n",
        "x=data.drop('Propertycount',axis=1)\n",
        "y=data['Propertycount']\n",
        "print(x.shape)\n",
        "print(y.shape)\n",
        "if y.isnull().any():\n",
        "    y = y.dropna()\n",
        "    x = x.loc[y.index]\n",
        "print(x.shape)\n",
        "print(y.shape)\n",
        "missing_value_count=x.isnull().sum()\n",
        "# print(missing_value_count)\n",
        "missing_value_percentage=missing_value_count/len(x)*100\n",
        "print(missing_value_percentage)\n",
        "final_columns=missing_value_percentage[missing_value_percentage<=20].keys()\n",
        "print(final_columns)\n",
        "xu=x[final_columns]\n",
        "print(xu.shape)\n",
        "from sklearn.model_selection import train_test_split\n",
        "from sklearn.tree import DecisionTreeClassifier\n",
        "from sklearn.metrics import accuracy_score\n",
        "model = DecisionTreeClassifier(random_state=42)\n",
        "x_train,x_test,y_train,y_test=train_test_split(x,y,test_size=0.3,random_state=42)\n",
        "model.fit(x_train,y_train)\n",
        "y_pred=model.predict(x_test)\n",
        "print(\"accuracy for All features\",accuracy_score(y_test,y_pred))\n",
        "xu_train,xu_test,yu_train,yu_test=train_test_split(xu,y,test_size=0.3,random_state=42)\n",
        "model.fit(xu_train,yu_train)\n",
        "yu_pred=model.predict(xu_test)\n",
        "print(\"accuracy for selected features\",accuracy_score(yu_test,yu_pred))\n"
      ]
    },
    {
      "cell_type": "code",
      "source": [
        "from google.colab import drive\n",
        "drive.mount('/content/drive')"
      ],
      "metadata": {
        "id": "TlJKDk8DdVXt"
      },
      "execution_count": null,
      "outputs": []
    }
  ]
}